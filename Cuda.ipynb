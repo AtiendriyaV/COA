{
  "nbformat": 4,
  "nbformat_minor": 0,
  "metadata": {
    "colab": {
      "provenance": [],
      "include_colab_link": true
    },
    "kernelspec": {
      "name": "python3",
      "display_name": "Python 3"
    },
    "accelerator": "GPU",
    "gpuClass": "standard"
  },
  "cells": [
    {
      "cell_type": "markdown",
      "metadata": {
        "id": "view-in-github",
        "colab_type": "text"
      },
      "source": [
        "<a href=\"https://colab.research.google.com/github/AtiendriyaV/COA/blob/main/Cuda.ipynb\" target=\"_parent\"><img src=\"https://colab.research.google.com/assets/colab-badge.svg\" alt=\"Open In Colab\"/></a>"
      ]
    },
    {
      "cell_type": "code",
      "metadata": {
        "id": "2nlQ-8HMH0mh",
        "colab": {
          "base_uri": "https://localhost:8080/"
        },
        "outputId": "a0f82c07-1935-489c-ea07-7f9b62e9ddbd"
      },
      "source": [
        "!wget https://developer.nvidia.com/compute/cuda/9.2/Prod/local_installers/cuda-repo-ubuntu1604-9-2-local_9.2.88-1_amd64 -O cuda-repo-ubuntu1604-9-2-local_9.2.88-1_amd64.deb\n",
        "!dpkg -i cuda-repo-ubuntu1604-9-2-local_9.2.88-1_amd64.deb\n",
        "!apt-key add /var/cuda-repo-9-2-local/7fa2af80.pub\n",
        "!apt-get update\n",
        "!apt-get install cuda-9.2"
      ],
      "execution_count": 2,
      "outputs": [
        {
          "output_type": "stream",
          "name": "stdout",
          "text": [
            "--2023-01-11 03:20:14--  https://developer.nvidia.com/compute/cuda/9.2/Prod/local_installers/cuda-repo-ubuntu1604-9-2-local_9.2.88-1_amd64\n",
            "Resolving developer.nvidia.com (developer.nvidia.com)... 152.199.20.126\n",
            "Connecting to developer.nvidia.com (developer.nvidia.com)|152.199.20.126|:443... connected.\n",
            "HTTP request sent, awaiting response... 301 Moved Permanently\n",
            "Location: https://developer.nvidia.com/downloads/compute/cuda/9.2/Prod/local_installers/cuda-repo-ubuntu1604-9-2-local_9.2.88-1_amd64 [following]\n",
            "--2023-01-11 03:20:15--  https://developer.nvidia.com/downloads/compute/cuda/9.2/Prod/local_installers/cuda-repo-ubuntu1604-9-2-local_9.2.88-1_amd64\n",
            "Reusing existing connection to developer.nvidia.com:443.\n",
            "HTTP request sent, awaiting response... 302 Found\n",
            "Location: https://developer.download.nvidia.com/compute/cuda/9.2/secure/Prod/local_installers/cuda-repo-ubuntu1604-9-2-local_9.2.88-1_amd64.deb?igd3RsEnDz3hucuYWmGjCJ6D3cEZMpmkh5XbGLfOfj7k7U1faJf3xSDyyr4S23DuSc3cb0903GtNIdg_TKGFOvTpmIkTTT4igSI5bI0nr4SLAnId9Vi2I3fpv4Zj5-W5anY_ZgOi9y2tgILFzgtbQOYsRjSYIakiPVVv_iltC0kK3LL_qzh0Z8zYNqdmghh9sAhlaC2U569ivn1njc8= [following]\n",
            "--2023-01-11 03:20:15--  https://developer.download.nvidia.com/compute/cuda/9.2/secure/Prod/local_installers/cuda-repo-ubuntu1604-9-2-local_9.2.88-1_amd64.deb?igd3RsEnDz3hucuYWmGjCJ6D3cEZMpmkh5XbGLfOfj7k7U1faJf3xSDyyr4S23DuSc3cb0903GtNIdg_TKGFOvTpmIkTTT4igSI5bI0nr4SLAnId9Vi2I3fpv4Zj5-W5anY_ZgOi9y2tgILFzgtbQOYsRjSYIakiPVVv_iltC0kK3LL_qzh0Z8zYNqdmghh9sAhlaC2U569ivn1njc8=\n",
            "Resolving developer.download.nvidia.com (developer.download.nvidia.com)... 152.199.20.126\n",
            "Connecting to developer.download.nvidia.com (developer.download.nvidia.com)|152.199.20.126|:443... connected.\n",
            "HTTP request sent, awaiting response... 200 OK\n",
            "Length: 1267391958 (1.2G) [application/x-deb]\n",
            "Saving to: ‘cuda-repo-ubuntu1604-9-2-local_9.2.88-1_amd64.deb’\n",
            "\n",
            "cuda-repo-ubuntu160 100%[===================>]   1.18G   232MB/s    in 5.8s    \n",
            "\n",
            "2023-01-11 03:20:21 (207 MB/s) - ‘cuda-repo-ubuntu1604-9-2-local_9.2.88-1_amd64.deb’ saved [1267391958/1267391958]\n",
            "\n",
            "(Reading database ... 134338 files and directories currently installed.)\n",
            "Preparing to unpack cuda-repo-ubuntu1604-9-2-local_9.2.88-1_amd64.deb ...\n",
            "Unpacking cuda-repo-ubuntu1604-9-2-local (9.2.88-1) over (9.2.88-1) ...\n",
            "Setting up cuda-repo-ubuntu1604-9-2-local (9.2.88-1) ...\n",
            "OK\n",
            "Get:1 file:/var/cuda-repo-9-2-local  InRelease\n",
            "Ign:1 file:/var/cuda-repo-9-2-local  InRelease\n",
            "Get:2 file:/var/cuda-repo-9-2-local  Release [574 B]\n",
            "Get:2 file:/var/cuda-repo-9-2-local  Release [574 B]\n",
            "Hit:3 http://archive.ubuntu.com/ubuntu bionic InRelease\n",
            "Hit:4 http://ppa.launchpad.net/c2d4u.team/c2d4u4.0+/ubuntu bionic InRelease\n",
            "Hit:5 http://archive.ubuntu.com/ubuntu bionic-updates InRelease\n",
            "Hit:6 http://ppa.launchpad.net/cran/libgit2/ubuntu bionic InRelease\n",
            "Hit:7 http://archive.ubuntu.com/ubuntu bionic-backports InRelease\n",
            "Hit:8 https://cloud.r-project.org/bin/linux/ubuntu bionic-cran40/ InRelease\n",
            "Hit:9 http://ppa.launchpad.net/deadsnakes/ppa/ubuntu bionic InRelease\n",
            "Hit:10 http://ppa.launchpad.net/graphics-drivers/ppa/ubuntu bionic InRelease\n",
            "Hit:11 http://security.ubuntu.com/ubuntu bionic-security InRelease\n",
            "Ign:13 https://developer.download.nvidia.com/compute/machine-learning/repos/ubuntu1804/x86_64  InRelease\n",
            "Hit:14 https://developer.download.nvidia.com/compute/cuda/repos/ubuntu1804/x86_64  InRelease\n",
            "Hit:15 https://developer.download.nvidia.com/compute/machine-learning/repos/ubuntu1804/x86_64  Release\n",
            "Reading package lists... Done\n",
            "Reading package lists... Done\n",
            "Building dependency tree       \n",
            "Reading state information... Done\n",
            "Note, selecting 'cuda-9-2' for regex 'cuda-9.2'\n",
            "Note, selecting 'libcuda-9.2-1' for regex 'cuda-9.2'\n",
            "cuda-9-2 is already the newest version (9.2.88-1).\n",
            "The following package was automatically installed and is no longer required:\n",
            "  libnvidia-common-460\n",
            "Use 'apt autoremove' to remove it.\n",
            "0 upgraded, 0 newly installed, 0 to remove and 23 not upgraded.\n"
          ]
        }
      ]
    },
    {
      "cell_type": "code",
      "source": [],
      "metadata": {
        "id": "ppsPCN950_QG"
      },
      "execution_count": null,
      "outputs": []
    },
    {
      "cell_type": "code",
      "metadata": {
        "id": "gCkJPOn0a5fe",
        "colab": {
          "base_uri": "https://localhost:8080/"
        },
        "outputId": "a541e722-acdd-4bef-de10-1dfca5c80f83"
      },
      "source": [
        "!apt-get update"
      ],
      "execution_count": 3,
      "outputs": [
        {
          "output_type": "stream",
          "name": "stdout",
          "text": [
            "\r0% [Working]\r            \rGet:1 file:/var/cuda-repo-9-2-local  InRelease\n",
            "\r0% [Connecting to archive.ubuntu.com (91.189.91.39)] [Connecting to security.ub\r                                                                               \rIgn:1 file:/var/cuda-repo-9-2-local  InRelease\n",
            "\r0% [Connecting to archive.ubuntu.com (91.189.91.39)] [Connecting to security.ub\r                                                                               \rGet:2 file:/var/cuda-repo-9-2-local  Release [574 B]\n",
            "\r0% [Connecting to archive.ubuntu.com (91.189.91.39)] [Connecting to security.ub\r                                                                               \rGet:2 file:/var/cuda-repo-9-2-local  Release [574 B]\n",
            "\r0% [2 Release 0 B/574 B 0%] [Connecting to archive.ubuntu.com (91.189.91.39)] [\r0% [Connecting to archive.ubuntu.com (91.189.91.39)] [Waiting for headers] [Con\r                                                                               \rHit:3 http://security.ubuntu.com/ubuntu bionic-security InRelease\n",
            "\r                                                                               \rHit:4 http://ppa.launchpad.net/c2d4u.team/c2d4u4.0+/ubuntu bionic InRelease\n",
            "\r0% [Connecting to archive.ubuntu.com (91.189.91.39)] [Connecting to cloud.r-pro\r0% [Release.gpg gpgv 574 B] [Connecting to archive.ubuntu.com (91.189.91.39)] [\r                                                                               \rHit:5 http://ppa.launchpad.net/cran/libgit2/ubuntu bionic InRelease\n",
            "\r0% [Release.gpg gpgv 574 B] [Connecting to archive.ubuntu.com (91.189.91.39)] [\r                                                                               \rHit:6 http://ppa.launchpad.net/deadsnakes/ppa/ubuntu bionic InRelease\n",
            "\r0% [Release.gpg gpgv 574 B] [Connecting to archive.ubuntu.com (91.189.91.39)] [\r                                                                               \rHit:7 http://ppa.launchpad.net/graphics-drivers/ppa/ubuntu bionic InRelease\n",
            "\r0% [Release.gpg gpgv 574 B] [Connecting to archive.ubuntu.com (91.189.91.39)] [\r                                                                               \rHit:8 https://cloud.r-project.org/bin/linux/ubuntu bionic-cran40/ InRelease\n",
            "Hit:9 http://archive.ubuntu.com/ubuntu bionic InRelease\n",
            "Hit:11 http://archive.ubuntu.com/ubuntu bionic-updates InRelease\n",
            "Ign:12 https://developer.download.nvidia.com/compute/machine-learning/repos/ubuntu1804/x86_64  InRelease\n",
            "Hit:13 http://archive.ubuntu.com/ubuntu bionic-backports InRelease\n",
            "Hit:14 https://developer.download.nvidia.com/compute/cuda/repos/ubuntu1804/x86_64  InRelease\n",
            "Hit:15 https://developer.download.nvidia.com/compute/machine-learning/repos/ubuntu1804/x86_64  Release\n",
            "Reading package lists... Done\n"
          ]
        }
      ]
    },
    {
      "cell_type": "code",
      "metadata": {
        "id": "dfkDR0UbdCr2",
        "colab": {
          "base_uri": "https://localhost:8080/"
        },
        "outputId": "39a00728-6845-474a-a6c4-12149494d604"
      },
      "source": [
        "!nvcc --version\n"
      ],
      "execution_count": null,
      "outputs": [
        {
          "output_type": "stream",
          "name": "stdout",
          "text": [
            "nvcc: NVIDIA (R) Cuda compiler driver\n",
            "Copyright (c) 2005-2018 NVIDIA Corporation\n",
            "Built on Wed_Apr_11_23:16:29_CDT_2018\n",
            "Cuda compilation tools, release 9.2, V9.2.88\n"
          ]
        }
      ]
    },
    {
      "cell_type": "code",
      "metadata": {
        "id": "HyJqeml2dKLr",
        "colab": {
          "base_uri": "https://localhost:8080/"
        },
        "outputId": "1fa84721-5f56-4459-f590-8c46d8ecf87d"
      },
      "source": [
        "!pip install git+https://github.com/andreinechaev/nvcc4jupyter.git"
      ],
      "execution_count": 4,
      "outputs": [
        {
          "output_type": "stream",
          "name": "stdout",
          "text": [
            "Looking in indexes: https://pypi.org/simple, https://us-python.pkg.dev/colab-wheels/public/simple/\n",
            "Collecting git+https://github.com/andreinechaev/nvcc4jupyter.git\n",
            "  Cloning https://github.com/andreinechaev/nvcc4jupyter.git to /tmp/pip-req-build-wuhcft6h\n",
            "  Running command git clone --filter=blob:none --quiet https://github.com/andreinechaev/nvcc4jupyter.git /tmp/pip-req-build-wuhcft6h\n",
            "  Resolved https://github.com/andreinechaev/nvcc4jupyter.git to commit aac710a35f52bb78ab34d2e52517237941399eff\n",
            "  Preparing metadata (setup.py) ... \u001b[?25l\u001b[?25hdone\n",
            "Building wheels for collected packages: NVCCPlugin\n",
            "  Building wheel for NVCCPlugin (setup.py) ... \u001b[?25l\u001b[?25hdone\n",
            "  Created wheel for NVCCPlugin: filename=NVCCPlugin-0.0.2-py3-none-any.whl size=4304 sha256=806b321aee2ebf9b0a35ae264a4b5d2a4a4f3da3df3eb81627d7c9f83b414e10\n",
            "  Stored in directory: /tmp/pip-ephem-wheel-cache-wpbh9lgv/wheels/f3/08/cc/e2b5b0e1c92df07dbb50a6f024a68ce090f5e7b2316b41756d\n",
            "Successfully built NVCCPlugin\n",
            "Installing collected packages: NVCCPlugin\n",
            "Successfully installed NVCCPlugin-0.0.2\n"
          ]
        }
      ]
    },
    {
      "cell_type": "code",
      "metadata": {
        "id": "o5GwcyZ2dN5y",
        "colab": {
          "base_uri": "https://localhost:8080/"
        },
        "outputId": "98710a7d-2aaf-48cb-8c72-2080f5a804a6"
      },
      "source": [
        "%load_ext nvcc_plugin"
      ],
      "execution_count": 5,
      "outputs": [
        {
          "output_type": "stream",
          "name": "stdout",
          "text": [
            "created output directory at /content/src\n",
            "Out bin /content/result.out\n"
          ]
        }
      ]
    },
    {
      "cell_type": "code",
      "metadata": {
        "id": "rdhjZCRRhApz",
        "colab": {
          "base_uri": "https://localhost:8080/"
        },
        "outputId": "6b5fab7f-1124-408d-9d4c-6044287d8469"
      },
      "source": [
        "%%cu\n",
        "#include <stdio.h>\n",
        "__global__ void Hellokernel()\n",
        "{\n",
        "\n",
        "}\n",
        "main()\n",
        "{\n",
        "Hellokernel<<<1, 1>>>();\n",
        " printf(\"Hello cuda program srivani 22MAI1007\\n\");\n",
        "return 0;\n",
        "}"
      ],
      "execution_count": 6,
      "outputs": [
        {
          "output_type": "stream",
          "name": "stdout",
          "text": [
            "Hello cuda program srivani 22MAI1007\n",
            "\n"
          ]
        }
      ]
    },
    {
      "cell_type": "code",
      "metadata": {
        "id": "7kyboLU0hYE1",
        "colab": {
          "base_uri": "https://localhost:8080/"
        },
        "outputId": "bf4a9144-12ba-4d5b-853b-9a2df063578c"
      },
      "source": [
        "%%cu\n",
        "#include <stdio.h>\n",
        "__global__ void add(int a, int b, int *c)\n",
        "{\n",
        "*c = a + b;\n",
        "}\n",
        "int main(void)\n",
        "{\n",
        "int c;\n",
        "int *dev_c;\n",
        "cudaMalloc((void**)&dev_c, sizeof(int));\n",
        "add << <1, 1 >> > (2, 7, dev_c);\n",
        "cudaMemcpy(&c, dev_c, sizeof(int),\n",
        "cudaMemcpyDeviceToHost);\n",
        "printf(\"2 + 7 = %d\\n\", c);\n",
        "cudaFree(dev_c);\n",
        "return 0;\n",
        "}"
      ],
      "execution_count": 7,
      "outputs": [
        {
          "output_type": "stream",
          "name": "stdout",
          "text": [
            "2 + 7 = 9\n",
            "\n"
          ]
        }
      ]
    },
    {
      "cell_type": "code",
      "metadata": {
        "id": "19gyQgqsh01t",
        "colab": {
          "base_uri": "https://localhost:8080/"
        },
        "outputId": "9f4c0e73-be0c-4b1e-9950-a0365e239dc3"
      },
      "source": [
        "%%cu\n",
        "#include <stdio.h>\n",
        "__global__ void vector_add(int *out_d, int *a, int *b, int n) \n",
        "\t{ \n",
        "\tint bx = blockIdx.x;\n",
        "int by = blockIdx.y;\n",
        "int tx = threadIdx.x;\n",
        "int ty = threadIdx.y;\n",
        "int row = by*blockDim.y + ty;\n",
        "int col = bx*blockDim.x + tx;\n",
        "int dim = gridDim.x*blockDim.x;\n",
        "int i = row*dim + col;\n",
        "out_d[i] = a[i] + b[i]; \n",
        "\n",
        "\t }\n",
        "\n",
        "int main()\n",
        "\t{ \n",
        "\tint *a, *b, *out_d,*out;\n",
        "\t int *d_a, *d_b;\n",
        "\t int N=6;\n",
        "\tint i;\n",
        "\t a = (int*)malloc(sizeof(int) * N);\n",
        "\t b = (int*)malloc(sizeof(int) * N);\n",
        "  \t out = (int*)malloc(sizeof(int) * N);\n",
        "\tfor (i=0;i<N;i++)\n",
        "\t\t{\n",
        "\t\ta[i]=i;\n",
        "\t\tb[i]=i*2;\n",
        "\t\t}\n",
        " \tcudaMalloc((void**)&d_a, sizeof(int) * N); \n",
        " \tcudaMalloc((void**)&d_b, sizeof(int) * N); \n",
        "  cudaMalloc((void**)&out_d, sizeof(int) * N); \n",
        "\tcudaMemcpy(d_a, a, sizeof(int) * N, cudaMemcpyHostToDevice); \n",
        "\tcudaMemcpy(d_b, b, sizeof(int) * N, cudaMemcpyHostToDevice);\n",
        "\tvector_add<<<2,4>>>(out_d, d_a, d_b, N); \n",
        "  \tcudaMemcpy(out, out_d, sizeof(int) * N, cudaMemcpyDeviceToHost);\n",
        "\tprintf(\"Success\");\n",
        "  \tfor (i=0;i<N;i++)\n",
        "\t\t{\n",
        "\t\tprintf(\"%d\\n\",out[i]);\n",
        "\t\t}\n",
        "\tcudaFree(d_a); \n",
        "\tcudaFree(d_b); \n",
        "  \tcudaFree(out_d); \n",
        "\tfree(a); \n",
        "\tfree(b); \n",
        "  \tfree(out); \n",
        "  return 0;\n",
        "\t}\n"
      ],
      "execution_count": null,
      "outputs": [
        {
          "output_type": "stream",
          "name": "stdout",
          "text": [
            "Success0\n",
            "3\n",
            "6\n",
            "9\n",
            "12\n",
            "15\n",
            "\n"
          ]
        }
      ]
    },
    {
      "cell_type": "code",
      "metadata": {
        "id": "tR3fM_ayl0a1",
        "colab": {
          "base_uri": "https://localhost:8080/"
        },
        "outputId": "ead48a1d-5a6b-4955-bbfa-ddb54d427c99"
      },
      "source": [
        "%%cu\n",
        "#include <stdio.h>\n",
        "__global__ void matrixMul( int* Pd, int* Md, int* Nd, int width)\n",
        "{\n",
        "int bx = blockIdx.x;\n",
        "int by = blockIdx.y;\n",
        "int tx = threadIdx.x; \n",
        "int ty = threadIdx.y;\n",
        "int col = by*blockDim.y + ty;\n",
        "int row = bx*blockDim.x + tx;\n",
        "int Pvalue=0;\n",
        "for (int k=0;k<width;++k)\n",
        "\tPvalue+=Md[row*width+k]*Nd[k*width+col];\n",
        "Pd[row*width+col]=Pvalue;\n",
        "}\n",
        "\n",
        "int main()\n",
        "\t{ \n",
        "\tint *M, *N1, *Md, *Nd, *Pd, *P;\n",
        "const int xb = 3; /* gridDim.x */\n",
        "const int yb = 3; /* gridDim.y */\n",
        "const int zb = 1; /* gridDim.z */\n",
        "const int xt = 3; /* blockDim.x */\n",
        "const int yt = 3; /* blockDim.y */\n",
        "const int zt = 1; /* blockDim.z */\n",
        "\t int N,width;\n",
        "  int i;\n",
        "    width=9;\n",
        "   N=width*width;\n",
        "\t M = (int*)malloc(sizeof(int) * N);\n",
        "\t N1 = (int*)malloc(sizeof(int) * N);\n",
        "  \t P = (int*)malloc(sizeof(int) * N);\n",
        "\tfor (i=0;i<N;i++)\n",
        "\t\t{\n",
        "\t\tM[i]=i;\n",
        "\t\tN1[i]=i*2;\n",
        "\t\t}\n",
        "  dim3 dimGrid(xb,yb,zb);\n",
        "dim3 dimBlock(xt,yt,zt);\n",
        " \tcudaMalloc((void**)&Md, sizeof(int) * N); \n",
        " \tcudaMalloc((void**)&Nd, sizeof(int) * N); \n",
        "  cudaMalloc((void**)&Pd, sizeof(int) * N); \n",
        "\tcudaMemcpy(Md, M, sizeof(int) * N, cudaMemcpyHostToDevice); \n",
        "\tcudaMemcpy(Nd, N1, sizeof(int) * N, cudaMemcpyHostToDevice);\n",
        "\tmatrixMul<<<dimGrid,dimBlock>>>(Pd, Md, Nd, width); \n",
        "  \tcudaMemcpy(P, Pd, sizeof(int) * N, cudaMemcpyDeviceToHost);\n",
        "\tprintf(\"Success\");\n",
        "  \tfor (i=0;i<N;i++)\n",
        "\t\t{\n",
        "\t\tprintf(\"%d\\n\",P[i]);\n",
        "\t\t}\n",
        "\tcudaFree(Md); \n",
        "\tcudaFree(Nd); \n",
        "  \tcudaFree(Pd); \n",
        "\tfree(M); \n",
        "\tfree(N1); \n",
        "  \tfree(P); \n",
        "  return 0;\n",
        "\t}\n"
      ],
      "execution_count": null,
      "outputs": [
        {
          "output_type": "stream",
          "name": "stdout",
          "text": [
            "Success3672\n",
            "3744\n",
            "3816\n",
            "3888\n",
            "3960\n",
            "4032\n",
            "4104\n",
            "4176\n",
            "4248\n",
            "9504\n",
            "9738\n",
            "9972\n",
            "10206\n",
            "10440\n",
            "10674\n",
            "10908\n",
            "11142\n",
            "11376\n",
            "15336\n",
            "15732\n",
            "16128\n",
            "16524\n",
            "16920\n",
            "17316\n",
            "17712\n",
            "18108\n",
            "18504\n",
            "21168\n",
            "21726\n",
            "22284\n",
            "22842\n",
            "23400\n",
            "23958\n",
            "24516\n",
            "25074\n",
            "25632\n",
            "27000\n",
            "27720\n",
            "28440\n",
            "29160\n",
            "29880\n",
            "30600\n",
            "31320\n",
            "32040\n",
            "32760\n",
            "32832\n",
            "33714\n",
            "34596\n",
            "35478\n",
            "36360\n",
            "37242\n",
            "38124\n",
            "39006\n",
            "39888\n",
            "38664\n",
            "39708\n",
            "40752\n",
            "41796\n",
            "42840\n",
            "43884\n",
            "44928\n",
            "45972\n",
            "47016\n",
            "44496\n",
            "45702\n",
            "46908\n",
            "48114\n",
            "49320\n",
            "50526\n",
            "51732\n",
            "52938\n",
            "54144\n",
            "50328\n",
            "51696\n",
            "53064\n",
            "54432\n",
            "55800\n",
            "57168\n",
            "58536\n",
            "59904\n",
            "61272\n",
            "\n"
          ]
        }
      ]
    },
    {
      "cell_type": "code",
      "metadata": {
        "id": "VUOus1kkmV8t"
      },
      "source": [
        "%%cu\n",
        "#include <stdio.h>\n",
        "__global__ void matrixFill ( int *x )\n",
        "{\n",
        "int bx = blockIdx.x;\n",
        "int by = blockIdx.y;\n",
        "int tx = threadIdx.x;\n",
        "int ty = threadIdx.y;\n",
        "int col = by*blockDim.y + ty; \n",
        "int row = bx*blockDim.x + tx; \n",
        "int dim =blockDim.x*gridDim.x;\n",
        "int i = row*dim + col; \n",
        "x[i] = i;\n",
        "}\n",
        "int main ( int argc, char* argv[] )\n",
        "{\n",
        "const int xb = 2; /* gridDim.x */\n",
        "const int yb = 2; /* gridDim.y */\n",
        "const int zb = 1; /* gridDim.z */\n",
        "const int xt = 2; /* blockDim.x */\n",
        "const int yt = 2; /* blockDim.y */\n",
        "const int zt = 1; /* blockDim.z */\n",
        "const int n = xb*yb*zb*xt*yt*zt;\n",
        "printf(\"allocating array of length %d...\\n\",n);\n",
        "int *xhost = (int*)calloc(n,sizeof(int));\n",
        "for(int i=0; i<n; i++) xhost[i] = -1.0;\n",
        "int *xdevice;\n",
        "size_t sx = n*sizeof(int);\n",
        "cudaMalloc((void**)&xdevice,sx);\n",
        "cudaMemcpy(xdevice,xhost,sx,cudaMemcpyHostToDevice);\n",
        "dim3 dimGrid(xb,yb,zb);\n",
        "dim3 dimBlock(xt,yt,zt);\n",
        "matrixFill<<<dimGrid,dimBlock>>>(xdevice);\n",
        "cudaMemcpy(xhost,xdevice,sx,cudaMemcpyDeviceToHost);\n",
        "cudaFree(xdevice);\n",
        "int *p = xhost;\n",
        "for(int i1=0; i1 < xb; i1++)\n",
        "for(int i2=0; i2 < yb; i2++)\n",
        "for(int i3=0; i3 < zb; i3++)\n",
        "for(int i4=0; i4 < xt; i4++)\n",
        "for(int i5=0; i5 < yt; i5++)\n",
        "for(int i6=0; i6 < zt; i6++)\n",
        "printf(\"x[%d][%d][%d][%d][%d][%d] = %d\\n\",i1,i2,i3,i4,i5,i6,*(p++));\n",
        "return 0;\n",
        "}"
      ],
      "execution_count": null,
      "outputs": []
    }
  ]
}